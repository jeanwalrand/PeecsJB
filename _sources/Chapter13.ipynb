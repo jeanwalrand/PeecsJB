{
 "cells": [
  {
   "cell_type": "markdown",
   "metadata": {},
   "source": [
    "# Route Planning A \n",
    "---------------------------------------------"
   ]
  },
  {
   "cell_type": "code",
   "execution_count": 1,
   "metadata": {
    "jupyter": {
     "outputs_hidden": false
    }
   },
   "outputs": [
    {
     "name": "stdout",
     "output_type": "stream",
     "text": [
      "The libraries loaded successfully\n"
     ]
    }
   ],
   "source": [
    "from IPython.core.display import HTML\n",
    "import numpy as np\n",
    "import matplotlib\n",
    "import scipy\n",
    "from scipy.stats import norm\n",
    "from scipy.stats import binom\n",
    "import pandas as pd\n",
    "params = {'figure.figsize':(12,6), # These are plot parameters\n",
    "         'xtick.labelsize': 16,\n",
    "         'ytick.labelsize':16,\n",
    "         'axes.titlesize':18,\n",
    "         'axes.labelsize':18,\n",
    "         'lines.markersize':4,\n",
    "         'legend.fontsize': 20}\n",
    "matplotlib.rcParams.update(params)\n",
    "from matplotlib import pyplot as plt\n",
    "import random\n",
    "from ipywidgets import *\n",
    "import numpy.linalg\n",
    "from IPython.display import display\n",
    "from IPython.core.display import HTML\n",
    "from notebook.nbextensions import enable_nbextension \n",
    "%matplotlib inline\n",
    "\n",
    "print('The libraries loaded successfully')"
   ]
  },
  {
   "cell_type": "markdown",
   "metadata": {},
   "source": [
    "Stochastic dynamic programming is a methodology for making sequential decisions in the face of uncertainty.  Route planning is a simple but intuitive example.  Controlling a Markov chain is a more general class of examples called Markov Decision Problems."
   ]
  },
  {
   "cell_type": "markdown",
   "metadata": {},
   "source": [
    "\n",
    "## Markov Decision Problems\n",
    "\n",
    "Consider the random sequence $\\{X_n, n \\geq 0\\}$ that takes values in some discrete set ${\\cal X}$ and is such that \n",
    "\n",
    "$$P[X_{n+1} = j \\mid X_n = i, a_n = a] = P(i,j;a), \\mbox{ for }a \\in {\\cal A}(i) \\mbox{ and } i, j \\in {\\cal X}, $$\n",
    "\n",
    "where ${\\cal A}(i)$ is a set of possible values of $a_n$ when $X_n = i$.\n",
    "\n",
    "Thus, $X_n$ behaves like a Markov chain, except that its transition probabilities are \"controlled\" by the actions $a_n$. The goal is to choose the actions $a_n$ to minimize some expected cost that we define next.\n",
    "\n",
    "The simplest formulation is to minimize\n",
    "\n",
    "$$\\sum_{n=0}^N E[c(X_n, a_n)]$$\n",
    "\n",
    "where $c(\\cdot, \\cdot)$ is a given function that represents the cost of taking action $a_n$ when the state\n",
    "is $X_n$.  The main observation is that it is generally not best to be greedy and choose the value of $a_n$\n",
    "that minimizes $c(X_n, a_n)$.  The reason is that a more expensive action $a_n$ might result in a preferable\n",
    "subsequent state $X_{n+1}$.  Thus, short term sacrifices may result in larger overall returns, like going to college.\n",
    "\n",
    "Bellman's breakthrough is to define $V_N(x)$ as the minimum value of that cost given that $X_0 = x$.  The minimum is over the possible choices of the actions as a function of the state and the number of steps to go.  With this definition, one has\n",
    "\n",
    "$$V_{N+1}(x) = \\min_{a \\in {\\cal A}(x)} [c(x, a) + \\sum_y P(x,y;a)V_N(x)].$$\n",
    "\n",
    "When $N \\to \\infty$, it may be that $V_N(x) \\to V(x)$ that then satisfies\n",
    "\n",
    "$$V(x) = \\min_{a \\in {\\cal A}(x)} [c(x, a) + \\sum_y P(x,y;a)V(x)].$$\n",
    "\n",
    "This is the case if, for instance, the Markov chain gets absorbed after a finite mean time in some state where the cost is zero.\n",
    "\n",
    "A small variation is when we consider the discounted cost\n",
    "\n",
    "$$\\sum_{n=0}^N E[\\beta^n c(X_n, a_n)]$$\n",
    "\n",
    "where $\\beta \\in (0, 1)$ is a discount factor.  We then define $V_N(x; \\beta)$ as the minimum value of the cost starting with $X_0 = x$ and one has\n",
    "\n",
    "$$V_{N+1}(x; \\beta) = \\min_{a \\in {\\cal A}(x)} [c(x, a) + \\beta \\sum_y P(x,y;a)V_N(x; \\beta)].$$\n",
    "\n",
    "If the cost $c(\\cdot, \\cdot)$ is bounded, then the cost remains finite as $N \\to \\infty$.  In that case,\n",
    "$V_N(x; \\beta) \\to V(x; \\beta)$ and this limit is such that\n",
    "\n",
    "$$V(x; \\beta) = \\min_{a \\in {\\cal A}(x)} [c(x, a) + \\beta \\sum_y P(x,y;a)V(x; \\beta)].$$\n",
    "\n",
    "In some cases, one may consider a continuous state space.  We will see this in examples.  \n"
   ]
  },
  {
   "cell_type": "markdown",
   "metadata": {},
   "source": [
    "## Example 1: How to Gamble, If you Must\n",
    "\n",
    "(We borrow the subtitle of a nice book by Dubbins and Savage.) \n",
    "\n",
    "You play a game of chance. You start with $M$ dollars.  At each step you choose how much to gamble.  If you gamble $a$, you win $a$ with probability $p$ and you lose $a$ otherwise.  Thus, if your fortune is $x$ and you gamble $a \\leq x$, after that step, your fortune is $x + a$ with probability $p$ and $x - a$ with probability $q = 1 - p$.  You cannot gamble more than your current fortune.  Your goal is to maximize the probability that your fortune reaches $F$ for some given $F \\geq M$ before your fortune reaches $0$.\n",
    "\n",
    "How much should you gamble when your fortune is $x$?\n",
    "\n",
    "Let $V(x)$ be the maximum probability of reaching $F$ before $0$, starting with a fortune equal to $x$.  Then, the DPEs are\n",
    "\n",
    "$$V(x) = \\max_{a \\leq x} [pV(x + a) + qV(x - a)].$$\n",
    "\n",
    "Also, $V(0) = 0$ and $V(F) = 1$.  The value $a(x)$ of $a$ that achieves the maximum is the optimal amount to gamble when the fortune is $x$.\n",
    "\n",
    "\n",
    "**Theorem:**\n",
    "\n",
    "If $p \\geq 0.5$, then $a(x) = 1$ for all $x$ is optimal.  One says that **timid play is optimal** when the game is favorable.\n",
    "\n",
    "**Proof:**\n",
    "\n",
    "Let $U(x)$ be the probability of hitting $F$ before $0$ starting from $x$ when choosing $a(x) = 1$ for all $x$.  Then, the first step equations are\n",
    "\n",
    "$$U(x) = pU(x+1) + qU(x-1), 1 \\leq x \\leq F; U(0) = 0, U(F) = 1.$$\n",
    "\n",
    "For $p \\neq q$, the solution can be verified to be \n",
    "\n",
    "$$U(x) = \\frac{ 1- (q/p)^x}{1 - (q/p)^F}.$$\n",
    "\n",
    "Also, when $p > 0.5$, we claim that\n",
    "\n",
    "$$U(x) = pU(x+1) + qU(x-1) \\geq pU(x + a) + qU(x - a), a \\in \\{1, 2, \\ldots, x\\}.$$\n",
    "\n",
    "To see this, note that the expression for $U(x)$ shows that this inequality is equivalent to \n",
    "\n",
    "$$1 = p(q/p) + q(q/p)^{-1} \\leq p(q/p)^a + q(q/p)^{-a}.$$\n",
    "\n",
    "Now, $h(x) := (1/x - 1)^a$ is convex in $x$, which implies that $ph(p) + qh(q) \\geq h((p+q)/2) = 1$.\n",
    "\n",
    "This shows that $U$ satisfies the DPE and also that $a(x) = 1$ is optimal.\n",
    "\n",
    "Unfortunately, the optimal strategy when $p < 0.5$ is more complicated.  We compute it below.\n",
    "\n",
    "**Notes:** \n",
    "\n",
    "* Updates take time.\n",
    "\n",
    "* For clarity, we plot $V(x) \\times \\max_y \\{a(y)\\}$ instead of $V(x)$."
   ]
  },
  {
   "cell_type": "code",
   "execution_count": 4,
   "metadata": {},
   "outputs": [
    {
     "data": {
      "application/vnd.jupyter.widget-view+json": {
       "model_id": "c6ffc3a8973643e4be08b0a326a7b22e",
       "version_major": 2,
       "version_minor": 0
      },
      "text/plain": [
       "interactive(children=(Dropdown(description='N', index=2, options=('10', '30', '50', '70', '100'), value='50'),…"
      ]
     },
     "metadata": {},
     "output_type": "display_data"
    }
   ],
   "source": [
    "def dummy(Nd,pd):\n",
    "    global N, p\n",
    "    N, p = int(Nd), float(pd)\n",
    "\n",
    "pd = widgets.Dropdown(options=['0.1', '0.2', '0.3', '0.4','0.5','0.6','0.7','0.8','0.9','1'],value='0.5',description='$p$',disabled=False)\n",
    "Nd = widgets.Dropdown(options=['10', '30', '50', '70','100'],value='50',description='N',disabled=False)\n",
    "\n",
    "z = widgets.interactive(dummy, Nd = Nd, pd = pd) \n",
    "display(z)"
   ]
  },
  {
   "cell_type": "code",
   "execution_count": 6,
   "metadata": {
    "jupyter": {
     "outputs_hidden": false
    },
    "scrolled": false
   },
   "outputs": [
    {
     "data": {
      "image/png": "[encoded data removed]",
      "text/plain": [
       "<Figure size 1008x432 with 1 Axes>"
      ]
     },
     "metadata": {
      "needs_background": "light"
     },
     "output_type": "display_data"
    }
   ],
   "source": [
    "def MDP1(p,F):  # How to gamble if you must\n",
    "    t = np.arange(0,F+1)\n",
    "    a = np.arange(0.0,F+1)\n",
    "    V = np.arange(0.0,F+1)\n",
    "    W = np.arange(0.0,F+1)\n",
    "    q = 1 - p\n",
    "    \n",
    "    \n",
    "    for x in range(F+1):  # initialize V\n",
    "        V[x] = (x == F) \n",
    "    S = 3*F\n",
    "    W[F] = 1\n",
    "    a[F] = 1\n",
    "    for s in range(S):\n",
    "        for x in range(1,F): # W = max_{1 <= u <= x} [p*V[x+u] + q*V[x-u]]\n",
    "            y = 0.0           \n",
    "            for u in range(1,x+1):\n",
    "                z = p*V[min(F,x+u)] + q*V[x-u]\n",
    "                if z > y + 0.01:\n",
    "                    a[x] = u\n",
    "                    y = z\n",
    "            W[x] = y\n",
    "        V = W\n",
    "        \n",
    "    plt.figure(figsize = (14,6))\n",
    "    pltV, = plt.plot(t,max(a)*V,'r--',label='max(a)*V(x)')\n",
    "    plt.legend()\n",
    "    pltV, = plt.plot(t,a,'b--',label='a(x)')\n",
    "    plt.legend()\n",
    "    plt.title('Value and Actions')\n",
    "    plt.xlabel('x')\n",
    "        \n",
    "MDP1(p,N)\n",
    "\n",
    "        "
   ]
  }
 ],
 "metadata": {
  "celltoolbar": "Tags",
  "kernelspec": {
   "display_name": "Python 3",
   "language": "python",
   "name": "python3"
  },
  "language_info": {
   "codemirror_mode": {
    "name": "ipython",
    "version": 3
   },
   "file_extension": ".py",
   "mimetype": "text/x-python",
   "name": "python",
   "nbconvert_exporter": "python",
   "pygments_lexer": "ipython3",
   "version": "3.7.6"
  },
  "toc": {
   "base_numbering": 1,
   "nav_menu": {},
   "number_sections": true,
   "sideBar": true,
   "skip_h1_title": false,
   "title_cell": "Table of Contents",
   "title_sidebar": "Contents",
   "toc_cell": false,
   "toc_position": {},
   "toc_section_display": true,
   "toc_window_display": false
  },
  "varInspector": {
   "cols": {
    "lenName": 16,
    "lenType": 16,
    "lenVar": 40
   },
   "kernels_config": {
    "python": {
     "delete_cmd_postfix": "",
     "delete_cmd_prefix": "del ",
     "library": "var_list.py",
     "varRefreshCmd": "print(var_dic_list())"
    },
    "r": {
     "delete_cmd_postfix": ") ",
     "delete_cmd_prefix": "rm(",
     "library": "var_list.r",
     "varRefreshCmd": "cat(var_dic_list()) "
    }
   },
   "types_to_exclude": [
    "module",
    "function",
    "builtin_function_or_method",
    "instance",
    "_Feature"
   ],
   "window_display": false
  },
  "widgets": {
   "state": {
    "32ff15bc4f9a45efa64b5dd14fcd55c8": {
     "views": [
      {
       "cell_index": 6
      }
     ]
    },
    "5c95e655799e4c678d66c5bd17ad0e56": {
     "views": [
      {
       "cell_index": 8
      }
     ]
    }
   },
   "version": "1.2.0"
  }
 },
 "nbformat": 4,
 "nbformat_minor": 4
}
