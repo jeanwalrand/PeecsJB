{
 "cells": [
  {
   "cell_type": "markdown",
   "metadata": {},
   "source": [
    "# Networks B \n",
    "---------------------------------------------"
   ]
  },
  {
   "cell_type": "code",
   "execution_count": 5,
   "metadata": {},
   "outputs": [
    {
     "name": "stdout",
     "output_type": "stream",
     "text": [
      "The libraries loaded successfully\n"
     ]
    }
   ],
   "source": [
    "from IPython.core.display import HTML\n",
    "import numpy as np\n",
    "import matplotlib\n",
    "import scipy\n",
    "from scipy.stats import norm\n",
    "from scipy.stats import binom\n",
    "import pandas as pd\n",
    "params = {'figure.figsize':(12,6), # These are plot parameters\n",
    "         'xtick.labelsize': 16,\n",
    "         'ytick.labelsize':16,\n",
    "         'axes.titlesize':18,\n",
    "         'axes.labelsize':18,\n",
    "         'lines.markersize':4,\n",
    "         'legend.fontsize': 20}\n",
    "matplotlib.rcParams.update(params)\n",
    "from matplotlib import pyplot as plt\n",
    "import random\n",
    "from ipywidgets import *\n",
    "import numpy.linalg\n",
    "from IPython.display import display\n",
    "from IPython.core.display import HTML\n",
    "from notebook.nbextensions import enable_nbextension \n",
    "%matplotlib inline\n",
    "\n",
    "print('The libraries loaded successfully')"
   ]
  },
  {
   "cell_type": "markdown",
   "metadata": {},
   "source": [
    "This chapter explains continuous-time Markov chains and queuing networks.\n",
    "\n",
    "## Continuous-Time Markov Chains\n",
    "\n",
    "Consider the Markov chain with the state transition rates shown in the figure below:\n",
    "\n",
    "![title](Figs/MC0.pdf)\n",
    "\n",
    "We simulate the Markov chain, plot the trajectory X[t], and the fraction of time in the different states.\n",
    "\n",
    "Note that the fractions of time converge.  Is this the case for any continuous-time Markov chain?"
   ]
  },
  {
   "cell_type": "code",
   "execution_count": 6,
   "metadata": {},
   "outputs": [
    {
     "data": {
      "application/vnd.jupyter.widget-view+json": {
       "model_id": "72cb9f8bf03b4dc68da600c75bf02cd9",
       "version_major": 2,
       "version_minor": 0
      },
      "text/plain": [
       "interactive(children=(Dropdown(description='T', index=2, options=('1', '2', '3', '4', '5', '6', '7', '8'), val…"
      ]
     },
     "metadata": {},
     "output_type": "display_data"
    }
   ],
   "source": [
    "def dummy(Td):\n",
    "    global T\n",
    "    T = float(Td)\n",
    "\n",
    "Td = widgets.Dropdown(options=['1', '2', '3', '4','5','6','7','8'],value='3',description='T',disabled=False)\n",
    "\n",
    "z = widgets.interactive(dummy, Td = Td) \n",
    "display(z)"
   ]
  },
  {
   "cell_type": "code",
   "execution_count": 7,
   "metadata": {
    "jupyter": {
     "outputs_hidden": false
    },
    "scrolled": false
   },
   "outputs": [
    {
     "data": {
      "image/png": "[encoded data removed]",
      "text/plain": [
       "<Figure size 864x432 with 1 Axes>"
      ]
     },
     "metadata": {
      "needs_background": "light"
     },
     "output_type": "display_data"
    },
    {
     "data": {
      "image/png": "[encoded data removed]",
      "text/plain": [
       "<Figure size 864x432 with 1 Axes>"
      ]
     },
     "metadata": {
      "needs_background": "light"
     },
     "output_type": "display_data"
    }
   ],
   "source": [
    "matplotlib.rcParams.update(params)\n",
    "\n",
    "def discreteRV(x,p): # here x = [x[0],...,x[K-1]], p = [p[0], ..., p[K-1]]\n",
    "    # returns a random value equal to x[k] with probability p[k]\n",
    "    z = 0\n",
    "    K = len(x)\n",
    "    P = np.zeros(K)\n",
    "    for k in range(K):\n",
    "        P[k] = sum(p[:k]) # P[0] = p[0], p[1] = p[1], P[2] = p[0] + p[1], ..., P[K-1] = p[0] + ... + p[K-1] = 1\n",
    "    U = np.random.uniform(0,1) # here is our uniform RV\n",
    "    for k in range(1,K):\n",
    "        found = False\n",
    "        if U < P[k]:\n",
    "            z = x[k-1]\n",
    "            found = True\n",
    "            break\n",
    "    if not found:\n",
    "        z = x[K-1]\n",
    "    return z\n",
    "\n",
    "def MC_demo(T): # T = 'real' simulation time; \n",
    "    global jump_times, states, M\n",
    "    Q=np.array([[-6,6,0],[7,-10,3],[2,5,-7]])\n",
    "    X0 = 0\n",
    "    M = len(Q) # number of states\n",
    "    x = np.arange(M) # set of states\n",
    "    p = np.zeros(M)\n",
    "    jump_times = [0] # list of jump times\n",
    "    states = [X0] # initial state\n",
    "    time = 0\n",
    "    while time < T:\n",
    "        state = states[-1] # current state\n",
    "        rate = - Q[state,state] # rate of holding time of current state\n",
    "        time += np.random.exponential(1/rate) # add holding time of current state\n",
    "        for i in range(M):\n",
    "            if i == state:\n",
    "                p[i] = 0\n",
    "            else:\n",
    "                p[i] = Q[state,i]/rate\n",
    "        p = list(p)\n",
    "        next_state = discreteRV(x,p)\n",
    "        jump_times.append(time)\n",
    "        states.append(next_state)\n",
    "    labels = [str(item) for item in x]        \n",
    "    plt.step(jump_times,states)\n",
    "    plt.yticks(x, labels)\n",
    "    plt.ylabel(\"$X(t)$\")\n",
    "    plt.xlabel(\"$t$\")\n",
    "    plt.title(\"Markov Chain $X$\")\n",
    "    plt.show()\n",
    "    \n",
    "    N = len(states)\n",
    "    total_times = np.zeros([M,N])\n",
    "    average_times = np.zeros([M,N])\n",
    "    for n in range(1,N):\n",
    "        state = states[n-1]\n",
    "        for i in range(M):\n",
    "            total_times[i,n] = total_times[i,n-1] + (jump_times[n] - jump_times[n-1])*(state == i)\n",
    "            average_times[i,n] += total_times[i,n]/jump_times[n]\n",
    "    for i in range(M):\n",
    "        plt.step(jump_times,average_times[i,:],label=str(x[i]))\n",
    "    plt.xlabel(\"$t$\")\n",
    "    plt.title(\"Fraction of time in states\")\n",
    "    plt.legend()\n",
    "    plt.show()\n",
    "        \n",
    "MC_demo(T)"
   ]
  },
  {
   "cell_type": "markdown",
   "metadata": {},
   "source": [
    "For this Markov chain, we can calculate the average time in the different states."
   ]
  }
 ],
 "metadata": {
  "kernelspec": {
   "display_name": "Python 3",
   "language": "python",
   "name": "python3"
  },
  "language_info": {
   "codemirror_mode": {
    "name": "ipython",
    "version": 3
   },
   "file_extension": ".py",
   "mimetype": "text/x-python",
   "name": "python",
   "nbconvert_exporter": "python",
   "pygments_lexer": "ipython3",
   "version": "3.7.6"
  },
  "toc": {
   "base_numbering": 1,
   "nav_menu": {},
   "number_sections": true,
   "sideBar": true,
   "skip_h1_title": false,
   "title_cell": "Table of Contents",
   "title_sidebar": "Contents",
   "toc_cell": false,
   "toc_position": {},
   "toc_section_display": true,
   "toc_window_display": false
  },
  "varInspector": {
   "cols": {
    "lenName": 16,
    "lenType": 16,
    "lenVar": 40
   },
   "kernels_config": {
    "python": {
     "delete_cmd_postfix": "",
     "delete_cmd_prefix": "del ",
     "library": "var_list.py",
     "varRefreshCmd": "print(var_dic_list())"
    },
    "r": {
     "delete_cmd_postfix": ") ",
     "delete_cmd_prefix": "rm(",
     "library": "var_list.r",
     "varRefreshCmd": "cat(var_dic_list()) "
    }
   },
   "types_to_exclude": [
    "module",
    "function",
    "builtin_function_or_method",
    "instance",
    "_Feature"
   ],
   "window_display": false
  }
 },
 "nbformat": 4,
 "nbformat_minor": 4
}
